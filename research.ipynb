{
 "cells": [
  {
   "cell_type": "markdown",
   "metadata": {},
   "source": [
    "# Preparation\n",
    "\n",
    "## Research Question (subject to change)\n",
    "What are the different options of a computer science career path?\\\n",
    "What proportion of Software developers got a 4-year degree? Masters? Went to bootcamp?\n",
    "\n",
    "Perhaps explore movie ratings dataset from https://grouplens.org/datasets/movielens/\n"
   ]
  },
  {
   "cell_type": "code",
   "execution_count": 15,
   "metadata": {},
   "outputs": [],
   "source": [
    "import pandas as pd\n",
    "import plotly.express as px"
   ]
  },
  {
   "cell_type": "code",
   "execution_count": 16,
   "metadata": {},
   "outputs": [],
   "source": [
    "ratings = pd.read_csv(\"ml-25m/ratings.csv\")\n",
    "movies = pd.read_csv(\"ml-25m/movies.csv\")"
   ]
  },
  {
   "cell_type": "markdown",
   "metadata": {},
   "source": [
    "We will start simple by observing the most highly rated movies"
   ]
  },
  {
   "cell_type": "code",
   "execution_count": 23,
   "metadata": {},
   "outputs": [
    {
     "ename": "KeyError",
     "evalue": "\"['rating.mean' 'rating.count'] not in index\"",
     "output_type": "error",
     "traceback": [
      "\u001b[0;31m---------------------------------------------------------------------------\u001b[0m",
      "\u001b[0;31mKeyError\u001b[0m                                  Traceback (most recent call last)",
      "\u001b[1;32m/home/trevor/College/2021-22-Spring/COS326-DataViz/DataVizProject/research.ipynb Cell 5'\u001b[0m in \u001b[0;36m<cell line: 2>\u001b[0;34m()\u001b[0m\n\u001b[1;32m      <a href='vscode-notebook-cell:/home/trevor/College/2021-22-Spring/COS326-DataViz/DataVizProject/research.ipynb#ch0000008?line=0'>1</a>\u001b[0m movie_ratings \u001b[39m=\u001b[39m ratings\u001b[39m.\u001b[39mgroupby(by\u001b[39m=\u001b[39m\u001b[39m\"\u001b[39m\u001b[39mmovieId\u001b[39m\u001b[39m\"\u001b[39m)\u001b[39m.\u001b[39magg([\u001b[39m\"\u001b[39m\u001b[39mmean\u001b[39m\u001b[39m\"\u001b[39m, \u001b[39m\"\u001b[39m\u001b[39mcount\u001b[39m\u001b[39m\"\u001b[39m])\n\u001b[0;32m----> <a href='vscode-notebook-cell:/home/trevor/College/2021-22-Spring/COS326-DataViz/DataVizProject/research.ipynb#ch0000008?line=1'>2</a>\u001b[0m movie_ratings \u001b[39m=\u001b[39m movie_ratings[[\u001b[39m\"\u001b[39;49m\u001b[39mrating.mean\u001b[39;49m\u001b[39m\"\u001b[39;49m, \u001b[39m\"\u001b[39;49m\u001b[39mrating.count\u001b[39;49m\u001b[39m\"\u001b[39;49m]]\n\u001b[1;32m      <a href='vscode-notebook-cell:/home/trevor/College/2021-22-Spring/COS326-DataViz/DataVizProject/research.ipynb#ch0000008?line=2'>3</a>\u001b[0m \u001b[39mprint\u001b[39m(movie_ratings)\n\u001b[1;32m      <a href='vscode-notebook-cell:/home/trevor/College/2021-22-Spring/COS326-DataViz/DataVizProject/research.ipynb#ch0000008?line=3'>4</a>\u001b[0m \u001b[39m#move_ratings = pd.merge(movie_ratings, , on=\"movieId\")\u001b[39;00m\n",
      "File \u001b[0;32m~/.local/lib/python3.8/site-packages/pandas/core/frame.py:3511\u001b[0m, in \u001b[0;36mDataFrame.__getitem__\u001b[0;34m(self, key)\u001b[0m\n\u001b[1;32m   <a href='file:///home/trevor/.local/lib/python3.8/site-packages/pandas/core/frame.py?line=3508'>3509</a>\u001b[0m     \u001b[39mif\u001b[39;00m is_iterator(key):\n\u001b[1;32m   <a href='file:///home/trevor/.local/lib/python3.8/site-packages/pandas/core/frame.py?line=3509'>3510</a>\u001b[0m         key \u001b[39m=\u001b[39m \u001b[39mlist\u001b[39m(key)\n\u001b[0;32m-> <a href='file:///home/trevor/.local/lib/python3.8/site-packages/pandas/core/frame.py?line=3510'>3511</a>\u001b[0m     indexer \u001b[39m=\u001b[39m \u001b[39mself\u001b[39;49m\u001b[39m.\u001b[39;49mcolumns\u001b[39m.\u001b[39;49m_get_indexer_strict(key, \u001b[39m\"\u001b[39;49m\u001b[39mcolumns\u001b[39;49m\u001b[39m\"\u001b[39;49m)[\u001b[39m1\u001b[39m]\n\u001b[1;32m   <a href='file:///home/trevor/.local/lib/python3.8/site-packages/pandas/core/frame.py?line=3512'>3513</a>\u001b[0m \u001b[39m# take() does not accept boolean indexers\u001b[39;00m\n\u001b[1;32m   <a href='file:///home/trevor/.local/lib/python3.8/site-packages/pandas/core/frame.py?line=3513'>3514</a>\u001b[0m \u001b[39mif\u001b[39;00m \u001b[39mgetattr\u001b[39m(indexer, \u001b[39m\"\u001b[39m\u001b[39mdtype\u001b[39m\u001b[39m\"\u001b[39m, \u001b[39mNone\u001b[39;00m) \u001b[39m==\u001b[39m \u001b[39mbool\u001b[39m:\n",
      "File \u001b[0;32m~/.local/lib/python3.8/site-packages/pandas/core/indexes/multi.py:2589\u001b[0m, in \u001b[0;36mMultiIndex._get_indexer_strict\u001b[0;34m(self, key, axis_name)\u001b[0m\n\u001b[1;32m   <a href='file:///home/trevor/.local/lib/python3.8/site-packages/pandas/core/indexes/multi.py?line=2585'>2586</a>\u001b[0m \u001b[39mif\u001b[39;00m \u001b[39mlen\u001b[39m(keyarr) \u001b[39mand\u001b[39;00m \u001b[39mnot\u001b[39;00m \u001b[39misinstance\u001b[39m(keyarr[\u001b[39m0\u001b[39m], \u001b[39mtuple\u001b[39m):\n\u001b[1;32m   <a href='file:///home/trevor/.local/lib/python3.8/site-packages/pandas/core/indexes/multi.py?line=2586'>2587</a>\u001b[0m     indexer \u001b[39m=\u001b[39m \u001b[39mself\u001b[39m\u001b[39m.\u001b[39m_get_indexer_level_0(keyarr)\n\u001b[0;32m-> <a href='file:///home/trevor/.local/lib/python3.8/site-packages/pandas/core/indexes/multi.py?line=2588'>2589</a>\u001b[0m     \u001b[39mself\u001b[39;49m\u001b[39m.\u001b[39;49m_raise_if_missing(key, indexer, axis_name)\n\u001b[1;32m   <a href='file:///home/trevor/.local/lib/python3.8/site-packages/pandas/core/indexes/multi.py?line=2589'>2590</a>\u001b[0m     \u001b[39mreturn\u001b[39;00m \u001b[39mself\u001b[39m[indexer], indexer\n\u001b[1;32m   <a href='file:///home/trevor/.local/lib/python3.8/site-packages/pandas/core/indexes/multi.py?line=2591'>2592</a>\u001b[0m \u001b[39mreturn\u001b[39;00m \u001b[39msuper\u001b[39m()\u001b[39m.\u001b[39m_get_indexer_strict(key, axis_name)\n",
      "File \u001b[0;32m~/.local/lib/python3.8/site-packages/pandas/core/indexes/multi.py:2607\u001b[0m, in \u001b[0;36mMultiIndex._raise_if_missing\u001b[0;34m(self, key, indexer, axis_name)\u001b[0m\n\u001b[1;32m   <a href='file:///home/trevor/.local/lib/python3.8/site-packages/pandas/core/indexes/multi.py?line=2604'>2605</a>\u001b[0m cmask \u001b[39m=\u001b[39m check \u001b[39m==\u001b[39m \u001b[39m-\u001b[39m\u001b[39m1\u001b[39m\n\u001b[1;32m   <a href='file:///home/trevor/.local/lib/python3.8/site-packages/pandas/core/indexes/multi.py?line=2605'>2606</a>\u001b[0m \u001b[39mif\u001b[39;00m cmask\u001b[39m.\u001b[39many():\n\u001b[0;32m-> <a href='file:///home/trevor/.local/lib/python3.8/site-packages/pandas/core/indexes/multi.py?line=2606'>2607</a>\u001b[0m     \u001b[39mraise\u001b[39;00m \u001b[39mKeyError\u001b[39;00m(\u001b[39mf\u001b[39m\u001b[39m\"\u001b[39m\u001b[39m{\u001b[39;00mkeyarr[cmask]\u001b[39m}\u001b[39;00m\u001b[39m not in index\u001b[39m\u001b[39m\"\u001b[39m)\n\u001b[1;32m   <a href='file:///home/trevor/.local/lib/python3.8/site-packages/pandas/core/indexes/multi.py?line=2607'>2608</a>\u001b[0m \u001b[39m# We get here when levels still contain values which are not\u001b[39;00m\n\u001b[1;32m   <a href='file:///home/trevor/.local/lib/python3.8/site-packages/pandas/core/indexes/multi.py?line=2608'>2609</a>\u001b[0m \u001b[39m# actually in Index anymore\u001b[39;00m\n\u001b[1;32m   <a href='file:///home/trevor/.local/lib/python3.8/site-packages/pandas/core/indexes/multi.py?line=2609'>2610</a>\u001b[0m \u001b[39mraise\u001b[39;00m \u001b[39mKeyError\u001b[39;00m(\u001b[39mf\u001b[39m\u001b[39m\"\u001b[39m\u001b[39m{\u001b[39;00mkeyarr\u001b[39m}\u001b[39;00m\u001b[39m not in index\u001b[39m\u001b[39m\"\u001b[39m)\n",
      "\u001b[0;31mKeyError\u001b[0m: \"['rating.mean' 'rating.count'] not in index\""
     ]
    }
   ],
   "source": [
    "movie_ratings = ratings.groupby(by=\"movieId\").agg([\"mean\", \"count\"])\n",
    "# move_ratings = pd.merge(movie_ratings, , on=\"movieId\")\n",
    "movie_ratings.sort_values(by=\"rating\", ascending=False, inplace=True)\n",
    "movie_ratings = pd.merge(movie_ratings, movies, on=\"movieId\")\n",
    "movie_ratings.head(10)"
   ]
  }
 ],
 "metadata": {
  "interpreter": {
   "hash": "916dbcbb3f70747c44a77c7bcd40155683ae19c65e1c03b4aa3499c5328201f1"
  },
  "kernelspec": {
   "display_name": "Python 3.8.10 64-bit",
   "language": "python",
   "name": "python3"
  },
  "language_info": {
   "codemirror_mode": {
    "name": "ipython",
    "version": 3
   },
   "file_extension": ".py",
   "mimetype": "text/x-python",
   "name": "python",
   "nbconvert_exporter": "python",
   "pygments_lexer": "ipython3",
   "version": "3.8.10"
  },
  "orig_nbformat": 4
 },
 "nbformat": 4,
 "nbformat_minor": 2
}
