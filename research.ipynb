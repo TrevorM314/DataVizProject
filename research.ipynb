{
 "cells": [
  {
   "cell_type": "markdown",
   "metadata": {},
   "source": [
    "# Preparation\n",
    "\n",
    "## Research Question (subject to change)\n",
    "What are the different options of a computer science career path?\\\n",
    "What proportion of Software developers got a 4-year degree? Masters? Went to bootcamp?\n"
   ]
  }
 ],
 "metadata": {
  "language_info": {
   "name": "python"
  },
  "orig_nbformat": 4
 },
 "nbformat": 4,
 "nbformat_minor": 2
}
